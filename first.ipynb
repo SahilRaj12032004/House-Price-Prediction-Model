{
 "cells": [
  {
   "cell_type": "code",
   "execution_count": 63,
   "metadata": {},
   "outputs": [
    {
     "name": "stdout",
     "output_type": "stream",
     "text": [
      "mean_squared_error: 1663130345.08791\n",
      "r2_score: 0.7831734531017012\n",
      "coefficient: [ 7.21466493e+01 -8.31421464e+03 -8.46263361e+03  7.82433144e-01\n",
      "  5.85690848e+02  2.33735808e+04]\n",
      "intersect: -1193970.0454682729\n",
      "Model saved as house_price_model.pkl\n"
     ]
    }
   ],
   "source": [
    "# import frameworks\n",
    "import os\n",
    "import pandas as pd\n",
    "import joblib # for saving or loading models\n",
    "import seaborn as sns\n",
    "import matplotlib.pyplot as plt\n",
    "import numpy as np\n",
    "from sklearn.model_selection import train_test_split\n",
    "from sklearn.linear_model import LinearRegression\n",
    "from sklearn.metrics import mean_squared_error, r2_score\n",
    "\n",
    "# Define file Path\n",
    "data_path = r\"C:\\Users\\Sahil Raj\\Downloads\\house-prices-advanced-regression-techniques\\train.csv\"\n",
    "\n",
    "# check if file exists\n",
    "if not os.path.exists(data_path):\n",
    "    print(f\"The dataset file`{data_path}`was not found Please ensure the data file is uploaded\")\n",
    "else:\n",
    "    # load the dataset\n",
    "    train_df = pd.read_csv(data_path)\n",
    "\n",
    "    # Ensure all the column are exists\n",
    "    required_columns = {'GrLivArea', 'BedroomAbvGr', 'FullBath', 'HalfBath', 'LotArea', 'YearBuilt', 'OverallQual', 'SalePrice'}\n",
    "    missing_columns = required_columns - set(train_df.columns)\n",
    "    if missing_columns:\n",
    "        raise ValueError(f\"Missing Required Columns in dataset: {missing_columns}\")\n",
    "        \n",
    "    # select relevent features\n",
    "    train_df['TotalBath'] = train_df['FullBath'] + train_df['HalfBath']\n",
    "    X = train_df[['GrLivArea', 'BedroomAbvGr', 'TotalBath', 'LotArea', 'YearBuilt', 'OverallQual']]\n",
    "    y = train_df['SalePrice']\n",
    "\n",
    "    # split data into training and testing sets\n",
    "    # X_train,y_train,X_test,y_test = train_test_split(X, y, test_size=0.2, random_state=42)\n",
    "    X_train, X_test, y_train, y_test = train_test_split(X, y, test_size=0.2, random_state=42)\n",
    "\n",
    "\n",
    "\n",
    "    # Create and train the model\n",
    "    model = LinearRegression()\n",
    "    model.fit(X_train, y_train)\n",
    "\n",
    "    # Make prediction\n",
    "    y_pred = model.predict(X_test)\n",
    "\n",
    "    # Evaluate the models\n",
    "    mse = mean_squared_error(y_test,y_pred)\n",
    "    r2 = r2_score(y_test,y_pred)\n",
    "\n",
    "    print(f\"mean_squared_error: {mse}\")\n",
    "    print(f\"r2_score: {r2}\")\n",
    "\n",
    "    # Display model coefficients\n",
    "    print(f\"coefficient:\",  model.coef_)\n",
    "    print(f\"intersect:\",  model.intercept_)\n",
    "\n",
    "    joblib.dump(model, \"house_price_model.pkl\")\n",
    "    print(\"Model saved as house_price_model.pkl\")\n",
    "\n",
    "\n",
    "    # print(f\"Price of the LivinArea is:\", '$',model.coef_[0].round(2),\"persqfoot\")\n",
    "    # print(f\"\")\n",
    "\n"
   ]
  }
 ],
 "metadata": {
  "kernelspec": {
   "display_name": "Python 3 (ipykernel)",
   "language": "python",
   "name": "python3"
  }
 },
 "nbformat": 4,
 "nbformat_minor": 2
}
